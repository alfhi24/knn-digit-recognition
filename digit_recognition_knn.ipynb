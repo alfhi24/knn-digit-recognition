{
 "cells": [
  {
   "cell_type": "code",
   "execution_count": 187,
   "metadata": {},
   "outputs": [],
   "source": [
    "import cv2\n",
    "import numpy as np"
   ]
  },
  {
   "cell_type": "code",
   "execution_count": 188,
   "metadata": {},
   "outputs": [],
   "source": [
    "img_train = cv2.imread(\"train.png\", cv2.IMREAD_GRAYSCALE)\n",
    "img_test = cv2.imread(\"test.png\", cv2.IMREAD_GRAYSCALE)\n",
    "# cv2.imshow(\"train\", img_train)\n",
    "# cv2.imshow(\"test\", img_test)"
   ]
  },
  {
   "cell_type": "code",
   "execution_count": 189,
   "metadata": {},
   "outputs": [],
   "source": [
    "row_img = 50\n",
    "col_img = 50\n",
    "tot = 250\n",
    "img_per_baris = np.vsplit(img_train, row_img)\n",
    "cells = []\n",
    "for row in img_per_baris:\n",
    "    per_digit = np.hsplit(row, col_img)\n",
    "    for cell in per_digit:\n",
    "        cell = cell.ravel()\n",
    "        cells.append(cell)\n",
    "# print(cells[0])"
   ]
  },
  {
   "cell_type": "code",
   "execution_count": 190,
   "metadata": {},
   "outputs": [],
   "source": [
    "k = np.arange(0,10)\n",
    "label = np.repeat(k, 250)"
   ]
  },
  {
   "cell_type": "code",
   "execution_count": 191,
   "metadata": {},
   "outputs": [],
   "source": [
    "img_test = np.vsplit(img_test,50)\n",
    "test_cells = []\n",
    "for d in img_test:\n",
    "    d = d.ravel()\n",
    "    test_cells.append(d)"
   ]
  },
  {
   "cell_type": "code",
   "execution_count": 193,
   "metadata": {},
   "outputs": [
    {
     "name": "stdout",
     "output_type": "stream",
     "text": [
      "[[0.]\n",
      " [0.]\n",
      " [0.]\n",
      " [0.]\n",
      " [0.]\n",
      " [1.]\n",
      " [1.]\n",
      " [1.]\n",
      " [1.]\n",
      " [1.]\n",
      " [2.]\n",
      " [0.]\n",
      " [2.]\n",
      " [2.]\n",
      " [2.]\n",
      " [3.]\n",
      " [3.]\n",
      " [4.]\n",
      " [3.]\n",
      " [3.]\n",
      " [4.]\n",
      " [4.]\n",
      " [4.]\n",
      " [4.]\n",
      " [4.]\n",
      " [5.]\n",
      " [5.]\n",
      " [6.]\n",
      " [5.]\n",
      " [3.]\n",
      " [6.]\n",
      " [6.]\n",
      " [6.]\n",
      " [6.]\n",
      " [6.]\n",
      " [7.]\n",
      " [7.]\n",
      " [7.]\n",
      " [7.]\n",
      " [7.]\n",
      " [8.]\n",
      " [1.]\n",
      " [8.]\n",
      " [8.]\n",
      " [8.]\n",
      " [9.]\n",
      " [9.]\n",
      " [9.]\n",
      " [9.]\n",
      " [9.]]\n"
     ]
    }
   ],
   "source": [
    "# KNN\n",
    "cells = np.array(cells, dtype=np.float32)\n",
    "test_cells = np.array(test_cells, dtype=np.float32)\n",
    "knn = cv2.ml.KNearest_create()\n",
    "knn.train(cells, cv2.ml.ROW_SAMPLE, label)\n",
    "ret, result, neighbours, dist = knn.findNearest(test_cells, k=5)\n",
    "\n",
    "print(result)"
   ]
  },
  {
   "cell_type": "code",
   "execution_count": 200,
   "metadata": {},
   "outputs": [
    {
     "name": "stdout",
     "output_type": "stream",
     "text": [
      "90.0 %\n"
     ]
    }
   ],
   "source": [
    "a = np.arange(10)\n",
    "t = np.repeat(a, 5)\n",
    "count = 0\n",
    "for i in range (len(t)) :\n",
    "    if (result[i] == t[i]) :\n",
    "        count += 1\n",
    "acc = (count / 50) * 100\n",
    "print(acc, \"%\")"
   ]
  }
 ],
 "metadata": {
  "kernelspec": {
   "display_name": "Python 3",
   "language": "python",
   "name": "python3"
  },
  "language_info": {
   "codemirror_mode": {
    "name": "ipython",
    "version": 3
   },
   "file_extension": ".py",
   "mimetype": "text/x-python",
   "name": "python",
   "nbconvert_exporter": "python",
   "pygments_lexer": "ipython3",
   "version": "3.7.1"
  }
 },
 "nbformat": 4,
 "nbformat_minor": 2
}
